{
  "nbformat": 4,
  "nbformat_minor": 0,
  "metadata": {
    "colab": {
      "provenance": [],
      "collapsed_sections": [],
      "authorship_tag": "ABX9TyPwd25KrUHHWUcbqkeebCb5",
      "include_colab_link": true
    },
    "kernelspec": {
      "name": "python3",
      "display_name": "Python 3"
    },
    "language_info": {
      "name": "python"
    }
  },
  "cells": [
    {
      "cell_type": "markdown",
      "metadata": {
        "id": "view-in-github",
        "colab_type": "text"
      },
      "source": [
        "<a href=\"https://colab.research.google.com/github/DominicJW/COMP24011_Intro_AI/blob/main/RusselNorvig3_3.ipynb\" target=\"_parent\"><img src=\"https://colab.research.google.com/assets/colab-badge.svg\" alt=\"Open In Colab\"/></a>"
      ]
    },
    {
      "cell_type": "code",
      "source": [
        "class State:\n",
        "  def __init__(self,value):\n",
        "    self.value = value\n",
        "    self.neighbors = []\n",
        "\n",
        "class Action:\n",
        "  def __init__(self,state,cost):\n",
        "    self.state = state\n",
        "    self.cost = cost"
      ],
      "metadata": {
        "id": "zvmt-ZQvTc0j"
      },
      "execution_count": 1,
      "outputs": []
    },
    {
      "cell_type": "code",
      "source": [
        "## creating the states(places) ##using letters only to save time\n",
        "o = State(\"O\")\n",
        "z = State(\"Z\")\n",
        "s = State(\"S\")\n",
        "a = State(\"A\")\n",
        "f = State(\"F\")\n",
        "r = State(\"R\")\n",
        "t = State(\"T\")\n",
        "l = State(\"L\")\n",
        "b = State(\"B\")\n",
        "p = State(\"P\")\n",
        "m = State(\"M\")\n",
        "d = State(\"D\")\n",
        "c = State(\"C\")"
      ],
      "metadata": {
        "id": "Fwqdlq896PD3"
      },
      "execution_count": 2,
      "outputs": []
    },
    {
      "cell_type": "code",
      "source": [
        "## neighbors are states reachable by the that state\n",
        "## generalizing, one could swap the states for actions and include cost of action.\n",
        "o.neighbors += [z,s]\n",
        "z.neighbors += [o,a]\n",
        "s.neighbors += [a,o,f,r]\n",
        "a.neighbors += [z,s,t]\n",
        "f.neighbors += [s,b]\n",
        "r.neighbors += [s,p,c]\n",
        "t.neighbors += [a,l]\n",
        "l.neighbors += [t,m]\n",
        "b.neighbors += [p,f]\n",
        "p.neighbors += [r,c,b]\n",
        "m.neighbors += [l,d]\n",
        "d.neighbors += [m,c]\n",
        "c.neighbors += [d,p,r]"
      ],
      "metadata": {
        "id": "rZTSDSRG6s2l"
      },
      "execution_count": 3,
      "outputs": []
    },
    {
      "cell_type": "code",
      "source": [
        "class Node:\n",
        "  def __init__(self,state,parent):\n",
        "    self.state = state\n",
        "    self.parent = parent\n",
        "\n",
        "def make_list_of_nodes(self,listofStates,parent):\n",
        "  return [Node(state,parent) for state in listofStates]\n",
        "\n",
        "\n",
        "def TreeSearch(problem): ##will never terminate due to loopy paths being followed\n",
        "  frontier = [Node(a,None)]\n",
        "  while True:\n",
        "    if len(frontier) == 0:return False\n",
        "    node = frontier.pop()\n",
        "    if node.state is b:\n",
        "      return node\n",
        "    frontier += make_list_of_nodes(node.neighbors,node)"
      ],
      "metadata": {
        "id": "mhNhp_g6_Pr9"
      },
      "execution_count": 4,
      "outputs": []
    },
    {
      "cell_type": "code",
      "source": [
        "class NodeList:\n",
        "  \"\"\" Machinery to make easy access to the states in the frontier\"\"\"\n",
        "  def __init__(self,l):\n",
        "    self.states = set()\n",
        "    self.nodes = []\n",
        "    for node in l:\n",
        "      self.states.add(node.state)\n",
        "      self.nodes.append(node)\n",
        "\n",
        "  def add(self,node):\n",
        "    self.states.add(node.state)\n",
        "    self.nodes.append(node)\n",
        "  def pop(self):\n",
        "    ##since we are not updating the set of states we do not need the exploredSet variable in the graph search function, but I leave it in to keep in cohrence with the textbook\n",
        "    return self.nodes.pop()\n",
        "  def __len__(self):\n",
        "    return len(self.nodes)\n",
        "\n",
        "def GraphSearch():\n",
        "  frontier = NodeList([Node(a,None)])\n",
        "  exploredSet = set()\n",
        "  while True:\n",
        "    if len(frontier) == 0:return False\n",
        "    node = frontier.pop()\n",
        "    if node.state is b:\n",
        "      return node\n",
        "    exploredSet.add(node.state)\n",
        "    for newstate in node.state.neighbors:\n",
        "      if (newstate not in exploredSet) and (newstate not in frontier.states):\n",
        "        newnode = Node(newstate,node)\n",
        "        frontier.add(newnode)"
      ],
      "metadata": {
        "id": "zRjq79s3I9Fc"
      },
      "execution_count": 6,
      "outputs": []
    },
    {
      "cell_type": "code",
      "source": [
        "solution = GraphSearch()"
      ],
      "metadata": {
        "id": "p4fW4JxPBkaq"
      },
      "execution_count": 12,
      "outputs": []
    },
    {
      "cell_type": "code",
      "source": [
        "def print_path(node):\n",
        "  string = \"\"\n",
        "  def foo(node):\n",
        "    nonlocal string\n",
        "    string =  node.state.value + string\n",
        "    if node.parent is None: return\n",
        "    foo(node.parent)\n",
        "  foo(node)\n",
        "  print(string)"
      ],
      "metadata": {
        "id": "dBpDjG9wJg8k"
      },
      "execution_count": 13,
      "outputs": []
    },
    {
      "cell_type": "code",
      "source": [
        "print_path(solution)"
      ],
      "metadata": {
        "colab": {
          "base_uri": "https://localhost:8080/"
        },
        "id": "KuWUosXbIE8B",
        "outputId": "683d0d46-a60d-472e-89a5-ffb0850958b5"
      },
      "execution_count": 14,
      "outputs": [
        {
          "output_type": "stream",
          "name": "stdout",
          "text": [
            "ATLMDCPB\n"
          ]
        }
      ]
    }
  ]
}